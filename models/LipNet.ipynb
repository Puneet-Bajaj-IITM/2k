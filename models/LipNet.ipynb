version https://git-lfs.github.com/spec/v1
oid sha256:e43113b27e46be71901e7d63c051aac0b41b4ee6401a79e5a48f4f1960dad6ce
size 58161
